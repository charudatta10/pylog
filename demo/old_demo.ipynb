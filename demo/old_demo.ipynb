{
 "cells": [
  {
   "cell_type": "code",
   "execution_count": null,
   "metadata": {},
   "outputs": [],
   "source": [
    "%%writefile example.py\n",
    "\n",
    "# w: 3x3 conv filter; data: 360x240 image\n",
    "\n",
    "c = hmap(lambda x: dot(x[-1:2, -1:2], w), data[1:359, 1:239])"
   ]
  },
  {
   "cell_type": "code",
   "execution_count": null,
   "metadata": {},
   "outputs": [],
   "source": [
    "!python3 ../logicpy.py example.py"
   ]
  },
  {
   "cell_type": "code",
   "execution_count": null,
   "metadata": {},
   "outputs": [],
   "source": [
    "%%writefile example.py\n",
    "\n",
    "# w: 3x3 conv filter; data: 360x240 image\n",
    "\n",
    "c = hmap(lambda x: dot(x[-1:2, -1:2], w), data[1:359:2, 1:239:2])"
   ]
  },
  {
   "cell_type": "markdown",
   "metadata": {},
   "source": [
    "Standard Convolution with stride = 2 (l=1)\n",
    "![title](img/standard_conv.gif)\n",
    "(Source: https://towardsdatascience.com/review-dilated-convolution-semantic-segmentation-9d5a5bd768f5)"
   ]
  },
  {
   "cell_type": "code",
   "execution_count": null,
   "metadata": {},
   "outputs": [],
   "source": [
    "!python3 ../logicpy.py example.py"
   ]
  },
  {
   "cell_type": "code",
   "execution_count": null,
   "metadata": {},
   "outputs": [],
   "source": [
    "%%writefile example.py\n",
    "\n",
    "c = hmap(lambda x: dot(x[-2:3:2, -2:3:2,-2:3:2], w), data[1:359, 1:239, 1:239])"
   ]
  },
  {
   "cell_type": "markdown",
   "metadata": {},
   "source": [
    "Dilated Convolution  (l=2)\n",
    "![title](img/dilated_conv.gif)\n",
    "(Source: https://towardsdatascience.com/review-dilated-convolution-semantic-segmentation-9d5a5bd768f5)"
   ]
  },
  {
   "cell_type": "code",
   "execution_count": null,
   "metadata": {},
   "outputs": [],
   "source": [
    "!python3 ../logicpy.py example.py"
   ]
  },
  {
   "cell_type": "code",
   "execution_count": null,
   "metadata": {},
   "outputs": [],
   "source": [
    "import sys\n",
    "from typing import List\n",
    "# insert at 1, 0 is the script path (or '' in REPL)\n",
    "sys.path.insert(1, '/Users/shuang91/lab_logicpy/')\n",
    "\n",
    "from logicpy import *"
   ]
  },
  {
   "cell_type": "code",
   "execution_count": null,
   "metadata": {},
   "outputs": [],
   "source": [
    "def LpType(ele_type, dim):\n",
    "    if dim == 0:\n",
    "        return ele_type\n",
    "    elif dim == 1:\n",
    "        return List[ele_type]\n",
    "    else:\n",
    "        return List[LpType(ele_type, dim - 1)]"
   ]
  },
  {
   "cell_type": "code",
   "execution_count": null,
   "metadata": {},
   "outputs": [],
   "source": [
    "@lp_top\n",
    "def top_func(w: LpType(float, 4), data: LpType(float, 3)) -> LpType(float, 3):\n",
    "    c = hmap(lambda x: dot(x[-1:2, -1:2], w), data[1:360, 1:240]) \n",
    "    return c\n",
    "\n",
    "top_func(0, 0)"
   ]
  },
  {
   "cell_type": "code",
   "execution_count": null,
   "metadata": {},
   "outputs": [],
   "source": [
    "@lp_top\n",
    "def top_func(w: LpType(float, 4), data: LpType(float, 3)) -> LpType(float, 3):\n",
    "    c = map(lambda wi: \n",
    "              hmap(lambda x: \n",
    "                dot(x[0:16, -1:2, -1:2], wi), data[0, 1:240, 1:360]),\n",
    "            w)\n",
    "    # w(Cout, ...)\n",
    "    return c\n",
    "\n",
    "top_func(0, 0)"
   ]
  },
  {
   "cell_type": "code",
   "execution_count": null,
   "metadata": {},
   "outputs": [],
   "source": []
  }
 ],
 "metadata": {
  "kernelspec": {
   "display_name": "Python 3",
   "language": "python",
   "name": "python3"
  },
  "language_info": {
   "codemirror_mode": {
    "name": "ipython",
    "version": 3
   },
   "file_extension": ".py",
   "mimetype": "text/x-python",
   "name": "python",
   "nbconvert_exporter": "python",
   "pygments_lexer": "ipython3",
   "version": "3.6.9"
  }
 },
 "nbformat": 4,
 "nbformat_minor": 2
}
