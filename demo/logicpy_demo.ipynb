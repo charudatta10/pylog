{
 "cells": [
  {
   "cell_type": "code",
   "execution_count": 3,
   "metadata": {},
   "outputs": [
    {
     "name": "stdout",
     "output_type": "stream",
     "text": [
      "Overwriting example.py\n"
     ]
    }
   ],
   "source": [
    "%%writefile example.py\n",
    "\n",
    "w = [[0.5, 0, -0.5], [0, 0.5, 0], [1.5, -0.5, 0]] \n",
    "\n",
    "c = hmap(lambda x: dot(x[-1:2, -1:2], w), data[1:360, 1:240])"
   ]
  },
  {
   "cell_type": "code",
   "execution_count": 5,
   "metadata": {},
   "outputs": [
    {
     "name": "stdout",
     "output_type": "stream",
     "text": [
      "\r\n",
      "hmap_i1: for (int i1 = 1; i1 < 360; i1 += 1) {\r\n",
      "  hmap_i2: for (int i2 = 1; i2 < 240; i2 += 1) {\r\n",
      "    int tmp3 = 0;\r\n",
      "    dot_i4: for (int i4 = 0; i4 < 3; i4 += 1) {\r\n",
      "      dot_i5: for (int i5 = 0; i5 < 3; i5 += 1) {\r\n",
      "        tmp3 += data[i4+i1+(-1)][i5+i2+(-1)] * w[i4][i5]; \r\n",
      "      }\r\n",
      "    }\r\n",
      "    c[i1][i2] = tmp3; \r\n",
      "  }\r\n",
      "}\r\n",
      "\r\n",
      "Input code: \r\n",
      "\r\n",
      "w = [[0.5, 0, -0.5], [0, 0.5, 0], [1.5, -0.5, 0]] \r\n",
      "\r\n",
      "c = hmap(lambda x: dot(x[-1:2, -1:2], w), data[1:360, 1:240])\r\n"
     ]
    }
   ],
   "source": [
    "!python3 ../logicpy.py example.py"
   ]
  },
  {
   "cell_type": "code",
   "execution_count": null,
   "metadata": {},
   "outputs": [],
   "source": [
    "%%writefile example.py\n",
    "\n",
    "w = [[0.5, 0, -0.5], [0, 0.5, 0], [1.5, -0.5, 0]] \n",
    "\n",
    "c = hmap(lambda x: dot(x[-1:2, -1:2], w), data[1:360, 1:240])"
   ]
  },
  {
   "cell_type": "code",
   "execution_count": 2,
   "metadata": {},
   "outputs": [
    {
     "name": "stdout",
     "output_type": "stream",
     "text": [
      "Overwriting example.py\n"
     ]
    }
   ],
   "source": [
    "%%writefile example.py\n",
    "\n",
    "w = [[0.5, 0, -0.5], [0, 0.5, 0], [1.5, -0.5, 0]] \n",
    "\n",
    "c = hmap(lambda x: dot(x[-2:3:2, -2:3:2, -1:2], w), data[1:360:2, 1:240:2, 0:3])"
   ]
  },
  {
   "cell_type": "code",
   "execution_count": null,
   "metadata": {},
   "outputs": [],
   "source": []
  },
  {
   "cell_type": "code",
   "execution_count": null,
   "metadata": {},
   "outputs": [],
   "source": []
  }
 ],
 "metadata": {
  "kernelspec": {
   "display_name": "Python 3",
   "language": "python",
   "name": "python3"
  },
  "language_info": {
   "codemirror_mode": {
    "name": "ipython",
    "version": 2
   },
   "file_extension": ".py",
   "mimetype": "text/x-python",
   "name": "python",
   "nbconvert_exporter": "python",
   "pygments_lexer": "ipython2",
   "version": "2.7.12"
  }
 },
 "nbformat": 4,
 "nbformat_minor": 2
}
