{
 "cells": [
  {
   "cell_type": "code",
   "execution_count": 3,
   "metadata": {},
   "outputs": [
    {
     "name": "stdout",
     "output_type": "stream",
     "text": [
      "Overwriting example.py\n"
     ]
    }
   ],
   "source": [
    "%%writefile example.py\n",
    "\n",
    "# w: 3x3 conv filter; data: 360x240 image\n",
    "\n",
    "c = hmap(lambda x: dot(x[-1:2, -1:2], w), data[1:359, 1:239])"
   ]
  },
  {
   "cell_type": "code",
   "execution_count": 4,
   "metadata": {},
   "outputs": [
    {
     "name": "stdout",
     "output_type": "stream",
     "text": [
      "\r\n",
      "hmap_i1: for (int i1 = 1; i1 < 359; i1 += 1) {\r\n",
      "  hmap_i2: for (int i2 = 1; i2 < 239; i2 += 1) {\r\n",
      "    int tmp3 = 0;\r\n",
      "    dot_i4: for (int i4 = 0; i4 < 3; i4 += 1) {\r\n",
      "      dot_i5: for (int i5 = 0; i5 < 3; i5 += 1) {\r\n",
      "        tmp3 += data[i4+i1+(-1)][i5+i2+(-1)] * w[i4][i5]; \r\n",
      "      }\r\n",
      "    }\r\n",
      "    c[i1][i2] = tmp3; \r\n",
      "  }\r\n",
      "}\r\n",
      "\r\n"
     ]
    }
   ],
   "source": [
    "!python3 ../logicpy.py example.py"
   ]
  },
  {
   "cell_type": "code",
   "execution_count": 5,
   "metadata": {},
   "outputs": [
    {
     "name": "stdout",
     "output_type": "stream",
     "text": [
      "Overwriting example.py\n"
     ]
    }
   ],
   "source": [
    "%%writefile example.py\n",
    "\n",
    "# w: 3x3 conv filter; data: 360x240 image\n",
    "\n",
    "c = hmap(lambda x: dot(x[-1:2, -1:2], w), data[1:359:2, 1:239:2])"
   ]
  },
  {
   "cell_type": "markdown",
   "metadata": {},
   "source": [
    "Standard Convolution with stride = 2 (l=1)\n",
    "![title](img/standard_conv.gif)\n",
    "(Source: https://towardsdatascience.com/review-dilated-convolution-semantic-segmentation-9d5a5bd768f5)"
   ]
  },
  {
   "cell_type": "code",
   "execution_count": 6,
   "metadata": {},
   "outputs": [
    {
     "name": "stdout",
     "output_type": "stream",
     "text": [
      "\r\n",
      "hmap_i1: for (int i1 = 1; i1 < 359; i1 += 2) {\r\n",
      "  hmap_i2: for (int i2 = 1; i2 < 239; i2 += 2) {\r\n",
      "    int tmp3 = 0;\r\n",
      "    dot_i4: for (int i4 = 0; i4 < 3; i4 += 1) {\r\n",
      "      dot_i5: for (int i5 = 0; i5 < 3; i5 += 1) {\r\n",
      "        tmp3 += data[i4+i1+(-1)][i5+i2+(-1)] * w[i4][i5]; \r\n",
      "      }\r\n",
      "    }\r\n",
      "    c[i1][i2] = tmp3; \r\n",
      "  }\r\n",
      "}\r\n",
      "\r\n"
     ]
    }
   ],
   "source": [
    "!python3 ../logicpy.py example.py"
   ]
  },
  {
   "cell_type": "code",
   "execution_count": 7,
   "metadata": {},
   "outputs": [
    {
     "name": "stdout",
     "output_type": "stream",
     "text": [
      "Overwriting example.py\n"
     ]
    }
   ],
   "source": [
    "%%writefile example.py\n",
    "\n",
    "c = hmap(lambda x: dot(x[-2:3:2, -2:3:2,-2:3:2], w), data[1:359, 1:239, 1:239])"
   ]
  },
  {
   "cell_type": "markdown",
   "metadata": {},
   "source": [
    "Dilated Convolution  (l=2)\n",
    "![title](img/dilated_conv.gif)\n",
    "(Source: https://towardsdatascience.com/review-dilated-convolution-semantic-segmentation-9d5a5bd768f5)"
   ]
  },
  {
   "cell_type": "code",
   "execution_count": 8,
   "metadata": {},
   "outputs": [
    {
     "name": "stdout",
     "output_type": "stream",
     "text": [
      "\r\n",
      "hmap_i1: for (int i1 = 1; i1 < 359; i1 += 1) {\r\n",
      "  hmap_i2: for (int i2 = 1; i2 < 239; i2 += 1) {\r\n",
      "    hmap_i3: for (int i3 = 1; i3 < 239; i3 += 1) {\r\n",
      "      int tmp4 = 0;\r\n",
      "      dot_i5: for (int i5 = 0; i5 < 5; i5 += 2) {\r\n",
      "        dot_i6: for (int i6 = 0; i6 < 5; i6 += 2) {\r\n",
      "          dot_i7: for (int i7 = 0; i7 < 5; i7 += 2) {\r\n",
      "            tmp4 += data[i5+i1+(-2)][i6+i2+(-2)][i7+i3+(-2)] * w[i5][i6][i7]; \r\n",
      "          }\r\n",
      "        }\r\n",
      "      }\r\n",
      "      c[i1][i2][i3] = tmp4; \r\n",
      "    }\r\n",
      "  }\r\n",
      "}\r\n",
      "\r\n"
     ]
    }
   ],
   "source": [
    "!python3 ../logicpy.py example.py"
   ]
  },
  {
   "cell_type": "code",
   "execution_count": 3,
   "metadata": {},
   "outputs": [],
   "source": [
    "import sys\n",
    "from typing import List\n",
    "# insert at 1, 0 is the script path (or '' in REPL)\n",
    "sys.path.insert(1, '/Users/shuang91/lab_logicpy/')\n",
    "\n",
    "from logicpy import *"
   ]
  },
  {
   "cell_type": "code",
   "execution_count": 4,
   "metadata": {},
   "outputs": [],
   "source": [
    "def LpType(ele_type, dim):\n",
    "    if dim == 0:\n",
    "        return ele_type\n",
    "    elif dim == 1:\n",
    "        return List[ele_type]\n",
    "    else:\n",
    "        return List[LpType(ele_type, dim - 1)]"
   ]
  },
  {
   "cell_type": "code",
   "execution_count": 6,
   "metadata": {},
   "outputs": [
    {
     "name": "stdout",
     "output_type": "stream",
     "text": [
      "@lp_top\n",
      "def top_func(w: LpType(float, 4), data: LpType(float, 3)) -> LpType(float, 3):\n",
      "    c = hmap(lambda x: dot(x[-1:2, -1:2], w), data[1:360, 1:240]) \n",
      "    return c\n",
      "\n",
      "Module(\n",
      "    body=[\n",
      "        FunctionDef(\n",
      "            lineno=1,\n",
      "            col_offset=0,\n",
      "            name='top_func',\n",
      "            args=arguments(\n",
      "                args=[\n",
      "                    arg(\n",
      "                        lineno=2,\n",
      "                        col_offset=13,\n",
      "                        arg='w',\n",
      "                        annotation=Call(\n",
      "                            lineno=2,\n",
      "                            col_offset=16,\n",
      "                            func=Name(lineno=2, col_offset=16, id='LpType', ctx=Load()),\n",
      "                            args=[\n",
      "                                Name(lineno=2, col_offset=23, id='float', ctx=Load()),\n",
      "                                Num(lineno=2, col_offset=30, n=4),\n",
      "                            ],\n",
      "                            keywords=[],\n",
      "                        ),\n",
      "                    ),\n",
      "                    arg(\n",
      "                        lineno=2,\n",
      "                        col_offset=34,\n",
      "                        arg='data',\n",
      "                        annotation=Call(\n",
      "                            lineno=2,\n",
      "                            col_offset=40,\n",
      "                            func=Name(lineno=2, col_offset=40, id='LpType', ctx=Load()),\n",
      "                            args=[\n",
      "                                Name(lineno=2, col_offset=47, id='float', ctx=Load()),\n",
      "                                Num(lineno=2, col_offset=54, n=3),\n",
      "                            ],\n",
      "                            keywords=[],\n",
      "                        ),\n",
      "                    ),\n",
      "                ],\n",
      "                vararg=None,\n",
      "                kwonlyargs=[],\n",
      "                kw_defaults=[],\n",
      "                kwarg=None,\n",
      "                defaults=[],\n",
      "            ),\n",
      "            body=[\n",
      "                Assign(\n",
      "                    lineno=3,\n",
      "                    col_offset=4,\n",
      "                    targets=[Name(lineno=3, col_offset=4, id='c', ctx=Store())],\n",
      "                    value=Call(\n",
      "                        lineno=3,\n",
      "                        col_offset=8,\n",
      "                        func=Name(lineno=3, col_offset=8, id='hmap', ctx=Load()),\n",
      "                        args=[\n",
      "                            Lambda(\n",
      "                                lineno=3,\n",
      "                                col_offset=13,\n",
      "                                args=arguments(\n",
      "                                    args=[arg(lineno=3, col_offset=20, arg='x', annotation=None)],\n",
      "                                    vararg=None,\n",
      "                                    kwonlyargs=[],\n",
      "                                    kw_defaults=[],\n",
      "                                    kwarg=None,\n",
      "                                    defaults=[],\n",
      "                                ),\n",
      "                                body=Call(\n",
      "                                    lineno=3,\n",
      "                                    col_offset=23,\n",
      "                                    func=Name(lineno=3, col_offset=23, id='dot', ctx=Load()),\n",
      "                                    args=[\n",
      "                                        Subscript(\n",
      "                                            lineno=3,\n",
      "                                            col_offset=27,\n",
      "                                            value=Name(lineno=3, col_offset=27, id='x', ctx=Load()),\n",
      "                                            slice=ExtSlice(\n",
      "                                                dims=[\n",
      "                                                    Slice(\n",
      "                                                        lower=UnaryOp(\n",
      "                                                            lineno=3,\n",
      "                                                            col_offset=29,\n",
      "                                                            op=USub(),\n",
      "                                                            operand=Num(lineno=3, col_offset=30, n=1),\n",
      "                                                        ),\n",
      "                                                        upper=Num(lineno=3, col_offset=32, n=2),\n",
      "                                                        step=None,\n",
      "                                                    ),\n",
      "                                                    Slice(\n",
      "                                                        lower=UnaryOp(\n",
      "                                                            lineno=3,\n",
      "                                                            col_offset=35,\n",
      "                                                            op=USub(),\n",
      "                                                            operand=Num(lineno=3, col_offset=36, n=1),\n",
      "                                                        ),\n",
      "                                                        upper=Num(lineno=3, col_offset=38, n=2),\n",
      "                                                        step=None,\n",
      "                                                    ),\n",
      "                                                ],\n",
      "                                            ),\n",
      "                                            ctx=Load(),\n",
      "                                        ),\n",
      "                                        Name(lineno=3, col_offset=42, id='w', ctx=Load()),\n",
      "                                    ],\n",
      "                                    keywords=[],\n",
      "                                ),\n",
      "                            ),\n",
      "                            Subscript(\n",
      "                                lineno=3,\n",
      "                                col_offset=46,\n",
      "                                value=Name(lineno=3, col_offset=46, id='data', ctx=Load()),\n",
      "                                slice=ExtSlice(\n",
      "                                    dims=[\n",
      "                                        Slice(\n",
      "                                            lower=Num(lineno=3, col_offset=51, n=1),\n",
      "                                            upper=Num(lineno=3, col_offset=53, n=360),\n",
      "                                            step=None,\n",
      "                                        ),\n",
      "                                        Slice(\n",
      "                                            lower=Num(lineno=3, col_offset=58, n=1),\n",
      "                                            upper=Num(lineno=3, col_offset=60, n=240),\n",
      "                                            step=None,\n",
      "                                        ),\n",
      "                                    ],\n",
      "                                ),\n",
      "                                ctx=Load(),\n",
      "                            ),\n",
      "                        ],\n",
      "                        keywords=[],\n",
      "                    ),\n",
      "                ),\n",
      "                Return(\n",
      "                    lineno=4,\n",
      "                    col_offset=4,\n",
      "                    value=Name(lineno=4, col_offset=11, id='c', ctx=Load()),\n",
      "                ),\n",
      "            ],\n",
      "            decorator_list=[Name(lineno=1, col_offset=1, id='lp_top', ctx=Load())],\n",
      "            returns=Call(\n",
      "                lineno=2,\n",
      "                col_offset=61,\n",
      "                func=Name(lineno=2, col_offset=61, id='LpType', ctx=Load()),\n",
      "                args=[\n",
      "                    Name(lineno=2, col_offset=68, id='float', ctx=Load()),\n",
      "                    Num(lineno=2, col_offset=75, n=3),\n",
      "                ],\n",
      "                keywords=[],\n",
      "            ),\n",
      "        ),\n",
      "    ],\n",
      ")\n",
      "['lp_top']\n",
      "{'w': LpType(float, 4), 'data': LpType(float, 3)}\n",
      "VariableNode assigns type to w: LpType(float, 4)\n",
      "DotNode operand types:  LpType(float, 2)\n",
      "DotNode operand types:  LpType(float, 4)\n",
      "DotNode assigns type to LpNode: LpType(float, 0)\n",
      "LambdaNode assigns type to LpNode: LpType(float, 0)\n",
      "LambdaNode body type:  <class 'nodes.DotNode'>\n",
      "VariableNode assigns type to data: LpType(float, 3)\n",
      "VariableNode assigns type to data: LpType(float, 3)\n",
      "###########  <class 'nodes.LambdaNode'>\n",
      "############# lambda type:  LpType(float, 0)\n",
      "############# data:  LpType(float, 2)\n",
      ">>>>>>>>>>>> HmapNode assigns type to LpNode: LpType(float, 2)\n",
      ">>>>>>>>>>> Hmap Found CONFIG\n",
      "{'w': LpType(float, 4), 'data': LpType(float, 3)}\n",
      "\n",
      "hmap_i1: for (int i1 = 1; i1 < 360; i1 += 1) {\n",
      "  hmap_i2: for (int i2 = 1; i2 < 240; i2 += 1) {\n",
      "    int tmp3 = 0;\n",
      "    dot_i4: for (int i4 = 0; i4 < 3; i4 += 1) {\n",
      "      dot_i5: for (int i5 = 0; i5 < 3; i5 += 1) {\n",
      "        tmp3 += data[i4+i1+(-1)][i5+i2+(-1)] * w[i4][i5]; \n",
      "      }\n",
      "    }\n",
      "    c[i1][i2] = tmp3; \n",
      "  }\n",
      "}\n",
      "\n"
     ]
    }
   ],
   "source": [
    "@lp_top\n",
    "def top_func(w: LpType(float, 4), data: LpType(float, 3)) -> LpType(float, 3):\n",
    "    c = hmap(lambda x: dot(x[-1:2, -1:2], w), data[1:360, 1:240]) \n",
    "    return c\n",
    "\n",
    "top_func(0, 0)"
   ]
  },
  {
   "cell_type": "code",
   "execution_count": null,
   "metadata": {},
   "outputs": [],
   "source": [
    "@lp_top\n",
    "def top_func(w: LpType(float, 4), data: LpType(float, 3)) -> LpType(float, 3):\n",
    "    c = map(lambda wi: \n",
    "              hmap(lambda x: \n",
    "                dot(x[0:16, -1:2, -1:2], wi), data[0, 1:240, 1:360]),\n",
    "            w)\n",
    "    # w(Cout, ...)\n",
    "    return c\n",
    "\n",
    "top_func(0, 0)"
   ]
  },
  {
   "cell_type": "code",
   "execution_count": null,
   "metadata": {},
   "outputs": [],
   "source": []
  }
 ],
 "metadata": {
  "kernelspec": {
   "display_name": "Python 3",
   "language": "python",
   "name": "python3"
  },
  "language_info": {
   "codemirror_mode": {
    "name": "ipython",
    "version": 3
   },
   "file_extension": ".py",
   "mimetype": "text/x-python",
   "name": "python",
   "nbconvert_exporter": "python",
   "pygments_lexer": "ipython3",
   "version": "3.7.3"
  }
 },
 "nbformat": 4,
 "nbformat_minor": 2
}
