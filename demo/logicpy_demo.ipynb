{
 "cells": [
  {
   "cell_type": "code",
   "execution_count": 17,
   "metadata": {},
   "outputs": [
    {
     "name": "stdout",
     "output_type": "stream",
     "text": [
      "Overwriting example.py\n"
     ]
    }
   ],
   "source": [
    "%%writefile example.py\n",
    "\n",
    "# w: 3x3 conv filter; data: 360x240 image\n",
    "\n",
    "c = hmap(lambda x: dot(x[-1:2, -1:2], w), data[1:359, 1:239])"
   ]
  },
  {
   "cell_type": "code",
   "execution_count": 18,
   "metadata": {},
   "outputs": [
    {
     "name": "stdout",
     "output_type": "stream",
     "text": [
      "\r\n",
      "hmap_i1: for (int i1 = 1; i1 < 359; i1 += 1) {\r\n",
      "  hmap_i2: for (int i2 = 1; i2 < 239; i2 += 1) {\r\n",
      "    int tmp3 = 0;\r\n",
      "    dot_i4: for (int i4 = 0; i4 < 3; i4 += 1) {\r\n",
      "      dot_i5: for (int i5 = 0; i5 < 3; i5 += 1) {\r\n",
      "        tmp3 += data[i4+i1+(-1)][i5+i2+(-1)] * w[i4][i5]; \r\n",
      "      }\r\n",
      "    }\r\n",
      "    c[i1][i2] = tmp3; \r\n",
      "  }\r\n",
      "}\r\n",
      "\r\n"
     ]
    }
   ],
   "source": [
    "!python3 ../logicpy.py example.py"
   ]
  },
  {
   "cell_type": "code",
   "execution_count": 19,
   "metadata": {},
   "outputs": [
    {
     "name": "stdout",
     "output_type": "stream",
     "text": [
      "Overwriting example.py\n"
     ]
    }
   ],
   "source": [
    "%%writefile example.py\n",
    "\n",
    "# w: 3x3 conv filter; data: 360x240 image\n",
    "\n",
    "c = hmap(lambda x: dot(x[-1:2, -1:2], w), data[1:359:2, 1:239:2])"
   ]
  },
  {
   "cell_type": "markdown",
   "metadata": {},
   "source": [
    "Standard Convolution with stride = 2 (l=1)\n",
    "![title](img/standard_conv.gif)\n",
    "(Source: https://towardsdatascience.com/review-dilated-convolution-semantic-segmentation-9d5a5bd768f5)"
   ]
  },
  {
   "cell_type": "code",
   "execution_count": 20,
   "metadata": {},
   "outputs": [
    {
     "name": "stdout",
     "output_type": "stream",
     "text": [
      "\r\n",
      "hmap_i1: for (int i1 = 1; i1 < 359; i1 += 2) {\r\n",
      "  hmap_i2: for (int i2 = 1; i2 < 239; i2 += 2) {\r\n",
      "    int tmp3 = 0;\r\n",
      "    dot_i4: for (int i4 = 0; i4 < 3; i4 += 1) {\r\n",
      "      dot_i5: for (int i5 = 0; i5 < 3; i5 += 1) {\r\n",
      "        tmp3 += data[i4+i1+(-1)][i5+i2+(-1)] * w[i4][i5]; \r\n",
      "      }\r\n",
      "    }\r\n",
      "    c[i1][i2] = tmp3; \r\n",
      "  }\r\n",
      "}\r\n",
      "\r\n"
     ]
    }
   ],
   "source": [
    "!python3 ../logicpy.py example.py"
   ]
  },
  {
   "cell_type": "code",
   "execution_count": 24,
   "metadata": {},
   "outputs": [
    {
     "name": "stdout",
     "output_type": "stream",
     "text": [
      "Overwriting example.py\n"
     ]
    }
   ],
   "source": [
    "%%writefile example.py\n",
    "\n",
    "c = hmap(lambda x: dot(x[-2:3:2, -2:3:2,-2:3:2], w), data[1:359, 1:239, 1:239])"
   ]
  },
  {
   "cell_type": "markdown",
   "metadata": {},
   "source": [
    "Dilated Convolution  (l=2)\n",
    "![title](img/dilated_conv.gif)\n",
    "(Source: https://towardsdatascience.com/review-dilated-convolution-semantic-segmentation-9d5a5bd768f5)"
   ]
  },
  {
   "cell_type": "code",
   "execution_count": 25,
   "metadata": {},
   "outputs": [
    {
     "name": "stdout",
     "output_type": "stream",
     "text": [
      "\r\n",
      "hmap_i1: for (int i1 = 1; i1 < 359; i1 += 1) {\r\n",
      "  hmap_i2: for (int i2 = 1; i2 < 239; i2 += 1) {\r\n",
      "    hmap_i3: for (int i3 = 1; i3 < 239; i3 += 1) {\r\n",
      "      int tmp4 = 0;\r\n",
      "      dot_i5: for (int i5 = 0; i5 < 5; i5 += 2) {\r\n",
      "        dot_i6: for (int i6 = 0; i6 < 5; i6 += 2) {\r\n",
      "          dot_i7: for (int i7 = 0; i7 < 5; i7 += 2) {\r\n",
      "            tmp4 += data[i5+i1+(-2)][i6+i2+(-2)][i7+i3+(-2)] * w[i5][i6][i7]; \r\n",
      "          }\r\n",
      "        }\r\n",
      "      }\r\n",
      "      c[i1][i2][i3] = tmp4; \r\n",
      "    }\r\n",
      "  }\r\n",
      "}\r\n",
      "\r\n"
     ]
    }
   ],
   "source": [
    "!python3 ../logicpy.py example.py"
   ]
  },
  {
   "cell_type": "code",
   "execution_count": null,
   "metadata": {},
   "outputs": [],
   "source": []
  }
 ],
 "metadata": {
  "kernelspec": {
   "display_name": "Python 3",
   "language": "python",
   "name": "python3"
  },
  "language_info": {
   "codemirror_mode": {
    "name": "ipython",
    "version": 3
   },
   "file_extension": ".py",
   "mimetype": "text/x-python",
   "name": "python",
   "nbconvert_exporter": "python",
   "pygments_lexer": "ipython3",
   "version": "3.7.3"
  }
 },
 "nbformat": 4,
 "nbformat_minor": 2
}
