{
 "cells": [
  {
   "cell_type": "code",
   "execution_count": 7,
   "metadata": {},
   "outputs": [
    {
     "name": "stdout",
     "output_type": "stream",
     "text": [
      "Overwriting example.py\n"
     ]
    }
   ],
   "source": [
    "%%writefile example.py\n",
    "\n",
    "w = [[0.5, 0, -0.5], [0, 0.5, 0], [1.5, -0.5, 0]] \n",
    "\n",
    "c = hmap(lambda x: dot(x[-2:3:2, -2:3:2, -1:2], w), data[1:360:2, 1:240:2, 0:3])"
   ]
  },
  {
   "cell_type": "code",
   "execution_count": 8,
   "metadata": {},
   "outputs": [
    {
     "name": "stdout",
     "output_type": "stream",
     "text": [
      "\r\n",
      "hmap_i1: for (int i1 = 1; i1 < 360; i1 += 2) {\r\n",
      "  hmap_i2: for (int i2 = 1; i2 < 240; i2 += 2) {\r\n",
      "    hmap_i3: for (int i3 = 0; i3 < 3; i3 += 1) {\r\n",
      "      int tmp4 = 0;\r\n",
      "      dot_i5: for (int i5 = 0; i5 < 5; i5 += 2) {\r\n",
      "        dot_i6: for (int i6 = 0; i6 < 5; i6 += 2) {\r\n",
      "          dot_i7: for (int i7 = 0; i7 < 3; i7 += 1) {\r\n",
      "            tmp4 += data[i5+i1+(-2)][i6+i2+(-2)][i7+i3+(-1)] * w[i5][i6][i7];\r\n",
      "          }\r\n",
      "        }\r\n",
      "      }\r\n",
      "    }\r\n",
      "  }\r\n",
      "}\r\n",
      "\r\n",
      "Input code: \r\n",
      "\r\n",
      "w = [[0.5, 0, -0.5], [0, 0.5, 0], [1.5, -0.5, 0]] \r\n",
      "\r\n",
      "c = hmap(lambda x: dot(x[-2:3:2, -2:3:2, -1:2], w), data[1:360:2, 1:240:2, 0:3])\r\n",
      "\r\n"
     ]
    }
   ],
   "source": [
    "!python3 ../logicpy.py example.py"
   ]
  },
  {
   "cell_type": "code",
   "execution_count": null,
   "metadata": {},
   "outputs": [],
   "source": []
  }
 ],
 "metadata": {
  "kernelspec": {
   "display_name": "Python 3",
   "language": "python",
   "name": "python3"
  },
  "language_info": {
   "codemirror_mode": {
    "name": "ipython",
    "version": 3
   },
   "file_extension": ".py",
   "mimetype": "text/x-python",
   "name": "python",
   "nbconvert_exporter": "python",
   "pygments_lexer": "ipython3",
   "version": "3.5.2"
  }
 },
 "nbformat": 4,
 "nbformat_minor": 2
}
