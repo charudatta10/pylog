{
 "cells": [
  {
   "cell_type": "markdown",
   "metadata": {},
   "source": [
    "## PyLog Runtime (Deployment)"
   ]
  },
  {
   "cell_type": "markdown",
   "metadata": {},
   "source": [
    "Set PyLog path and import PyLog: "
   ]
  },
  {
   "cell_type": "code",
   "execution_count": null,
   "metadata": {},
   "outputs": [],
   "source": [
    "import sys\n",
    "sys.path.extend(['/home/xilinx/pylog/'])\n",
    "\n",
    "import numpy as np\n",
    "from pylog import *"
   ]
  },
  {
   "cell_type": "markdown",
   "metadata": {},
   "source": [
    "Set PyLog mode to `'deploy'`:"
   ]
  },
  {
   "cell_type": "code",
   "execution_count": null,
   "metadata": {},
   "outputs": [],
   "source": [
    "@pylog(mode='deploy')\n",
    "def pylog_add(a, b, c):\n",
    "\n",
    "    for i in range(1024).pipeline():\n",
    "        c[i] = a[i] + b[i]\n",
    "\n",
    "    return 0"
   ]
  },
  {
   "cell_type": "markdown",
   "metadata": {},
   "source": [
    "Prepare real input data: "
   ]
  },
  {
   "cell_type": "code",
   "execution_count": null,
   "metadata": {},
   "outputs": [],
   "source": [
    "length = 1024\n",
    "a = np.random.rand(length).astype(np.float32)\n",
    "b = np.random.rand(length).astype(np.float32)\n",
    "c = np.random.rand(length).astype(np.float32)"
   ]
  },
  {
   "cell_type": "markdown",
   "metadata": {},
   "source": [
    "Then call the decorated function. PyLog will do the following steps automatically:\n",
    "1. Fetch generated FPGA design from remote server and program FPGA;\n",
    "2. Allocate arrays in the CPU-FPGA shared memory space;\n",
    "3. Populate the arrays with real input data;\n",
    "4. Starts FPGA accelerator;\n",
    "5. Wait for FPGA to finish;\n",
    "6. Collect results from FPGA."
   ]
  },
  {
   "cell_type": "code",
   "execution_count": null,
   "metadata": {},
   "outputs": [],
   "source": [
    "pylog_add(a, b, c)\n",
    "print(a)\n",
    "print(b)\n",
    "print(c)"
   ]
  }
 ],
 "metadata": {
  "kernelspec": {
   "display_name": "Python 3",
   "language": "python",
   "name": "python3"
  },
  "language_info": {
   "codemirror_mode": {
    "name": "ipython",
    "version": 3
   },
   "file_extension": ".py",
   "mimetype": "text/x-python",
   "name": "python",
   "nbconvert_exporter": "python",
   "pygments_lexer": "ipython3",
   "version": "3.6.5"
  }
 },
 "nbformat": 4,
 "nbformat_minor": 2
}
