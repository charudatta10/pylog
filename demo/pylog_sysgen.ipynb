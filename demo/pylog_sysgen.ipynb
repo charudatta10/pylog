{
 "cells": [
  {
   "cell_type": "markdown",
   "metadata": {},
   "source": [
    "## PyLog Hardware Generation\n",
    "After generating HLS C code, PyLog can call FPGA synthesis tools (Xilinx Vivado HLS and Vivado) to generate FPGA IP, integrate the IP with other system components (e.g. embeded ARM processors, AXI buses, DDR memory, etc.), and generate the complete FPGA design. "
   ]
  },
  {
   "cell_type": "code",
   "execution_count": null,
   "metadata": {},
   "outputs": [],
   "source": [
    "import sys\n",
    "sys.path.extend(['/home/shuang91/pylog/'])\n",
    "\n",
    "import numpy as np\n",
    "from pylog import *"
   ]
  },
  {
   "cell_type": "markdown",
   "metadata": {},
   "source": [
    "To enable hardware generation flow, simply pass `'hwgen'` to the `mode` parameter of `@pylog` decorator. "
   ]
  },
  {
   "cell_type": "code",
   "execution_count": null,
   "metadata": {},
   "outputs": [],
   "source": [
    "@pylog(mode='hwgen')\n",
    "def pylog_demo_vecadd(a, b, c):\n",
    "\n",
    "    for i in range(1024).pipeline():\n",
    "        c[i] = a[i] + b[i]\n",
    "\n",
    "    return 0"
   ]
  },
  {
   "cell_type": "markdown",
   "metadata": {},
   "source": [
    "Prepare sample inputs: "
   ]
  },
  {
   "cell_type": "code",
   "execution_count": null,
   "metadata": {},
   "outputs": [],
   "source": [
    "length = 1024\n",
    "a = np.random.rand(length).astype(np.float32)\n",
    "b = np.random.rand(length).astype(np.float32)\n",
    "c = np.random.rand(length).astype(np.float32)"
   ]
  },
  {
   "cell_type": "markdown",
   "metadata": {},
   "source": [
    "Then call the decorated function. This will start the hardware generation flow. "
   ]
  },
  {
   "cell_type": "code",
   "execution_count": null,
   "metadata": {},
   "outputs": [],
   "source": [
    "pylog_demo_vecadd(a, b, c)"
   ]
  }
 ],
 "metadata": {
  "kernelspec": {
   "display_name": "Python 3",
   "language": "python",
   "name": "python3"
  },
  "language_info": {
   "codemirror_mode": {
    "name": "ipython",
    "version": 3
   },
   "file_extension": ".py",
   "mimetype": "text/x-python",
   "name": "python",
   "nbconvert_exporter": "python",
   "pygments_lexer": "ipython3",
   "version": "3.6.9"
  }
 },
 "nbformat": 4,
 "nbformat_minor": 4
}
