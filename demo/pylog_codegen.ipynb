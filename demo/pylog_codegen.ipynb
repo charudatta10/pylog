{
 "cells": [
  {
   "cell_type": "markdown",
   "metadata": {},
   "source": [
    "## PyLog HLS C Code Generation"
   ]
  },
  {
   "cell_type": "markdown",
   "metadata": {},
   "source": [
    "### Preparation\n",
    "Set PyLog path and import PyLog. "
   ]
  },
  {
   "cell_type": "code",
   "execution_count": null,
   "metadata": {},
   "outputs": [],
   "source": [
    "import sys\n",
    "sys.path.extend(['/home/shuang91/pylog/'])\n",
    "\n",
    "import numpy as np\n",
    "from pylog import *"
   ]
  },
  {
   "cell_type": "markdown",
   "metadata": {},
   "source": [
    "### Subscripts\n",
    "PyLog supports Python subscripts with arbitrary experssions. \n",
    "\n",
    "To annotate a Python function for compilation, simply decorate the function with `@pylog` decorator. "
   ]
  },
  {
   "cell_type": "code",
   "execution_count": null,
   "metadata": {},
   "outputs": [],
   "source": [
    "@pylog\n",
    "def pl_subscript(a, b):\n",
    "    for i in range(4, 15, 2):\n",
    "        a[b[i]][f(a * b + 13)][csdf*w34 - 1] = b\n",
    "    return c"
   ]
  },
  {
   "cell_type": "markdown",
   "metadata": {},
   "source": [
    "Call the decorated Python function with sample input will compile the function:  "
   ]
  },
  {
   "cell_type": "code",
   "execution_count": null,
   "metadata": {},
   "outputs": [],
   "source": [
    "a = np.array([1, 3, 6, 7, 10])\n",
    "b = np.array([1, 3, 6, 7, 10])\n",
    "c = pl_subscript(a, b)"
   ]
  },
  {
   "cell_type": "markdown",
   "metadata": {},
   "source": [
    "Now let's take a look at the generated HLS C code: "
   ]
  },
  {
   "cell_type": "code",
   "execution_count": null,
   "metadata": {},
   "outputs": [],
   "source": [
    "!pygmentize /home/shuang91/vivado_projects/pylog_projects/pl_subscript/pl_subscript.cpp"
   ]
  },
  {
   "cell_type": "markdown",
   "metadata": {},
   "source": [
    "### Control Statements\n",
    "PyLog supports Python control statements, e.g. `if elif else`, `for`, `while`, etc. PyLog also supports using `range` to specify boundaries of a `for` loop. "
   ]
  },
  {
   "cell_type": "code",
   "execution_count": null,
   "metadata": {},
   "outputs": [],
   "source": [
    "@pylog\n",
    "def pl_control(a, b):\n",
    "\n",
    "    def func_inside(c):\n",
    "        return c + 1\n",
    "\n",
    "    a = func_inside(another_func(b))\n",
    "\n",
    "    for ii in range(100, 20, -4):\n",
    "        for jj in range(10, 245, 3):\n",
    "            a = b+c\n",
    "\n",
    "    while (a > 100):\n",
    "        if (a < foo(b)):\n",
    "            test += 1\n",
    "        elif (b > c):\n",
    "            join -= -9\n",
    "            asdf = swr34cv_1 + 1\n",
    "        else:\n",
    "            return 0\n",
    "        c = (foo(a + b, c*d)) if (a > 0) else res\n",
    "        c = 100 if (a > 0) else -10\n",
    "    return c"
   ]
  },
  {
   "cell_type": "markdown",
   "metadata": {},
   "source": [
    "Compile the decorated function: "
   ]
  },
  {
   "cell_type": "code",
   "execution_count": null,
   "metadata": {},
   "outputs": [],
   "source": [
    "a = np.array([1, 3, 6, 7, 10])\n",
    "b = np.array([1, 3, 6, 7, 10])\n",
    "c = pl_control(a, b)"
   ]
  },
  {
   "cell_type": "markdown",
   "metadata": {},
   "source": [
    "Inspect the generated HLS C code:"
   ]
  },
  {
   "cell_type": "code",
   "execution_count": null,
   "metadata": {},
   "outputs": [],
   "source": [
    "!pygmentize /home/shuang91/vivado_projects/pylog_projects/pl_control/pl_control.cpp"
   ]
  },
  {
   "cell_type": "markdown",
   "metadata": {},
   "source": [
    "### Example: Matmul\n",
    "Let's take a look at a simple matrix multiplication in PyLog."
   ]
  },
  {
   "cell_type": "code",
   "execution_count": null,
   "metadata": {},
   "outputs": [],
   "source": [
    "@pylog\n",
    "def pl_matmul(a, b, c, d):\n",
    "    \n",
    "    buf = np.empty([16, 16], int)\n",
    "    pragma(\"HLS array_partition variable=buf\")\n",
    "\n",
    "    def matmul(a, b, c):\n",
    "        for i in range(32):\n",
    "            for j in range(32).unroll(4):\n",
    "                tmp = 0.\n",
    "                for k in range(32).pipeline():\n",
    "                    tmp += a[i][k] * b[k][j]\n",
    "                c[i][j] = tmp\n",
    "\n",
    "\n",
    "    def vecadd(a, b, c):\n",
    "        for i in range(32):\n",
    "            c[i] = a[i] + b[i]\n",
    "\n",
    "\n",
    "    matmul(a, b, c)\n",
    "\n",
    "    return 0"
   ]
  },
  {
   "cell_type": "code",
   "execution_count": null,
   "metadata": {},
   "outputs": [],
   "source": [
    "length = 1024\n",
    "a = np.random.rand(length, length)\n",
    "b = np.random.rand(length, length)\n",
    "c = np.zeros((length, length))\n",
    "d = np.random.rand(1)\n",
    "pl_matmul(a, b, c, d)"
   ]
  },
  {
   "cell_type": "markdown",
   "metadata": {},
   "source": [
    "Generated HLS C code:"
   ]
  },
  {
   "cell_type": "code",
   "execution_count": null,
   "metadata": {},
   "outputs": [],
   "source": [
    "!pygmentize /home/shuang91/vivado_projects/pylog_projects/pl_matmul/pl_matmul.cpp"
   ]
  },
  {
   "cell_type": "markdown",
   "metadata": {},
   "source": [
    "### Arbitrary Bitwidth Data Types\n",
    "PyLog allows users to use arbitrary bitwidth integers and fixed-point numbers. As an example, let's change the inputs to the above `pl_matmul` function to fixed-point numbers. `pl_fixed(8, 3)` is the 8-bit fixed-point format with 3 bits above decimal point."
   ]
  },
  {
   "cell_type": "code",
   "execution_count": null,
   "metadata": {},
   "outputs": [],
   "source": [
    "length = 1024\n",
    "a = np.random.rand(length, length).astype(pl_fixed(8, 3))\n",
    "b = np.random.rand(length, length).astype(pl_fixed(8, 3))\n",
    "c = np.zeros((length, length)).astype(pl_fixed(16, 6))\n",
    "d = np.random.rand(1).astype(np.int8)\n",
    "pl_matmul(a, b, c, d)"
   ]
  },
  {
   "cell_type": "code",
   "execution_count": null,
   "metadata": {},
   "outputs": [],
   "source": [
    "!pygmentize /home/shuang91/vivado_projects/pylog_projects/pl_matmul/pl_matmul.cpp"
   ]
  },
  {
   "cell_type": "markdown",
   "metadata": {},
   "source": [
    "### Python Simulation\n",
    "Similar to \"CSim\" in C-based HLS, PyLog support Python-based functionality simulation, `pysim`. PySim can be enabled by setting the PyLog mode to `'pysim'`. In PySim mode, when the decorated function is called, instead of going through PyLog compilation, PyLog will run the function as it is with standard Python interpreter. "
   ]
  },
  {
   "cell_type": "code",
   "execution_count": null,
   "metadata": {},
   "outputs": [],
   "source": [
    "from pysim import *"
   ]
  },
  {
   "cell_type": "code",
   "execution_count": null,
   "metadata": {},
   "outputs": [],
   "source": [
    "@pylog(mode='pysim')\n",
    "def pl_top(a, b, c, d):\n",
    "    \n",
    "    buf = np.empty([16, 16], int)\n",
    "    pragma(\"HLS array_partition variable=buf\")\n",
    "\n",
    "    def matmul(a, b, c):\n",
    "        for i in range(32):\n",
    "            for j in range(32).unroll(4):\n",
    "                tmp = 0.\n",
    "                for k in range(32).pipeline():\n",
    "                    tmp += a[i][k] * b[k][j]\n",
    "                c[i][j] = tmp\n",
    "\n",
    "\n",
    "    def vecadd(a, b, c):\n",
    "        for i in range(32):\n",
    "            c[i] = a[i] + b[i]\n",
    "\n",
    "\n",
    "    matmul(a, b, c)\n",
    "\n",
    "    return 0"
   ]
  },
  {
   "cell_type": "code",
   "execution_count": null,
   "metadata": {},
   "outputs": [],
   "source": [
    "length = 32\n",
    "a = np.random.rand(length, length)\n",
    "b = np.random.rand(length, length)\n",
    "c = np.zeros((length, length))\n",
    "d = np.random.rand(1)\n",
    "pl_top(a, b, c, d)\n",
    "print(c)"
   ]
  },
  {
   "cell_type": "code",
   "execution_count": null,
   "metadata": {},
   "outputs": [],
   "source": []
  }
 ],
 "metadata": {
  "kernelspec": {
   "display_name": "Python 3",
   "language": "python",
   "name": "python3"
  },
  "language_info": {
   "codemirror_mode": {
    "name": "ipython",
    "version": 3
   },
   "file_extension": ".py",
   "mimetype": "text/x-python",
   "name": "python",
   "nbconvert_exporter": "python",
   "pygments_lexer": "ipython3",
   "version": "3.6.9"
  }
 },
 "nbformat": 4,
 "nbformat_minor": 4
}
